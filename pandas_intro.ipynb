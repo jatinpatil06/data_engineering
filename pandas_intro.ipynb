{
 "cells": [
  {
   "cell_type": "code",
   "execution_count": 9,
   "metadata": {
    "id": "4UJSRknzpfsv"
   },
   "outputs": [],
   "source": [
    "import pandas as pd"
   ]
  },
  {
   "cell_type": "code",
   "execution_count": 10,
   "metadata": {
    "colab": {
     "base_uri": "https://localhost:8080/",
     "height": 125
    },
    "id": "4wP1DEc5pwiW",
    "outputId": "f599394f-c6cd-4e15-f2e1-b74804a105e5"
   },
   "outputs": [
    {
     "data": {
      "text/html": [
       "<div>\n",
       "<style scoped>\n",
       "    .dataframe tbody tr th:only-of-type {\n",
       "        vertical-align: middle;\n",
       "    }\n",
       "\n",
       "    .dataframe tbody tr th {\n",
       "        vertical-align: top;\n",
       "    }\n",
       "\n",
       "    .dataframe thead th {\n",
       "        text-align: right;\n",
       "    }\n",
       "</style>\n",
       "<table border=\"1\" class=\"dataframe\">\n",
       "  <thead>\n",
       "    <tr style=\"text-align: right;\">\n",
       "      <th></th>\n",
       "      <th>name</th>\n",
       "      <th>age</th>\n",
       "    </tr>\n",
       "  </thead>\n",
       "  <tbody>\n",
       "    <tr>\n",
       "      <th>a</th>\n",
       "      <td>jatin</td>\n",
       "      <td>21</td>\n",
       "    </tr>\n",
       "    <tr>\n",
       "      <th>b</th>\n",
       "      <td>taashvi</td>\n",
       "      <td>11</td>\n",
       "    </tr>\n",
       "  </tbody>\n",
       "</table>\n",
       "</div>"
      ],
      "text/plain": [
       "      name  age\n",
       "a    jatin   21\n",
       "b  taashvi   11"
      ]
     },
     "execution_count": 10,
     "metadata": {},
     "output_type": "execute_result"
    }
   ],
   "source": [
    "df = pd.DataFrame({'name' : ['jatin', 'taashvi'], 'age' : [21,11]}, index = ['a', 'b'])\n",
    "df"
   ]
  },
  {
   "cell_type": "code",
   "execution_count": 11,
   "metadata": {
    "colab": {
     "base_uri": "https://localhost:8080/",
     "height": 203
    },
    "id": "GZulfuH3p-ZX",
    "outputId": "f48ab694-17f8-439b-bca6-10a99a6b649a"
   },
   "outputs": [
    {
     "data": {
      "text/plain": [
       "pandas.core.frame.DataFrame"
      ]
     },
     "execution_count": 11,
     "metadata": {},
     "output_type": "execute_result"
    }
   ],
   "source": [
    "#we are creating DataFrame objects using pd.DataFrame()\n",
    "type(df)"
   ]
  },
  {
   "cell_type": "code",
   "execution_count": 12,
   "metadata": {
    "colab": {
     "base_uri": "https://localhost:8080/",
     "height": 125
    },
    "id": "fwxaACtlqM-l",
    "outputId": "cebcaaf0-7bca-424b-b6b7-723e7e4da732"
   },
   "outputs": [
    {
     "data": {
      "text/html": [
       "<div>\n",
       "<style scoped>\n",
       "    .dataframe tbody tr th:only-of-type {\n",
       "        vertical-align: middle;\n",
       "    }\n",
       "\n",
       "    .dataframe tbody tr th {\n",
       "        vertical-align: top;\n",
       "    }\n",
       "\n",
       "    .dataframe thead th {\n",
       "        text-align: right;\n",
       "    }\n",
       "</style>\n",
       "<table border=\"1\" class=\"dataframe\">\n",
       "  <thead>\n",
       "    <tr style=\"text-align: right;\">\n",
       "      <th></th>\n",
       "      <th>0</th>\n",
       "      <th>1</th>\n",
       "    </tr>\n",
       "  </thead>\n",
       "  <tbody>\n",
       "    <tr>\n",
       "      <th>0</th>\n",
       "      <td>17</td>\n",
       "      <td>20</td>\n",
       "    </tr>\n",
       "    <tr>\n",
       "      <th>1</th>\n",
       "      <td>78</td>\n",
       "      <td>99</td>\n",
       "    </tr>\n",
       "  </tbody>\n",
       "</table>\n",
       "</div>"
      ],
      "text/plain": [
       "    0   1\n",
       "0  17  20\n",
       "1  78  99"
      ]
     },
     "execution_count": 12,
     "metadata": {},
     "output_type": "execute_result"
    }
   ],
   "source": [
    "#you can also use lists to create dataframes\n",
    "df = pd.DataFrame([[17,20], [78,99]])\n",
    "df"
   ]
  },
  {
   "cell_type": "code",
   "execution_count": 13,
   "metadata": {
    "colab": {
     "base_uri": "https://localhost:8080/",
     "height": 209
    },
    "id": "SorhMJoJq9UD",
    "outputId": "ed0c2dfd-dcc6-494c-cee0-a6b84058608c"
   },
   "outputs": [
    {
     "data": {
      "text/plain": [
       "a      apples\n",
       "b     bananas\n",
       "c    brocolli\n",
       "d     lettuce\n",
       "Name: Vegetables, dtype: object"
      ]
     },
     "execution_count": 13,
     "metadata": {},
     "output_type": "execute_result"
    }
   ],
   "source": [
    "#a series is essentially a single row of a dataframe\n",
    "ser = pd.Series(['apples', 'bananas', 'brocolli', 'lettuce'], index = ['a', 'b', 'c', 'd'], name = 'Vegetables')\n",
    "ser"
   ]
  },
  {
   "cell_type": "code",
   "execution_count": 14,
   "metadata": {
    "colab": {
     "base_uri": "https://localhost:8080/",
     "height": 203
    },
    "id": "GUFgpPkLrYxS",
    "outputId": "b618d6df-ffce-4259-e144-1bb282e3410d"
   },
   "outputs": [
    {
     "data": {
      "text/plain": [
       "pandas.core.series.Series"
      ]
     },
     "execution_count": 14,
     "metadata": {},
     "output_type": "execute_result"
    }
   ],
   "source": [
    "type(ser)"
   ]
  },
  {
   "cell_type": "markdown",
   "metadata": {
    "id": "_n1jCY1Jr1Qd"
   },
   "source": [
    "The Series and the DataFrame are intimately related. It's helpful to think of a DataFrame as actually being just a bunch of Series \"glued together\"."
   ]
  },
  {
   "cell_type": "code",
   "execution_count": 59,
   "metadata": {
    "id": "j_qbBaSfripE"
   },
   "outputs": [
    {
     "data": {
      "text/html": [
       "<div>\n",
       "<style scoped>\n",
       "    .dataframe tbody tr th:only-of-type {\n",
       "        vertical-align: middle;\n",
       "    }\n",
       "\n",
       "    .dataframe tbody tr th {\n",
       "        vertical-align: top;\n",
       "    }\n",
       "\n",
       "    .dataframe thead th {\n",
       "        text-align: right;\n",
       "    }\n",
       "</style>\n",
       "<table border=\"1\" class=\"dataframe\">\n",
       "  <thead>\n",
       "    <tr style=\"text-align: right;\">\n",
       "      <th></th>\n",
       "      <th>country</th>\n",
       "      <th>description</th>\n",
       "      <th>designation</th>\n",
       "      <th>points</th>\n",
       "      <th>price</th>\n",
       "      <th>province</th>\n",
       "      <th>region_1</th>\n",
       "      <th>region_2</th>\n",
       "      <th>taster_name</th>\n",
       "      <th>taster_twitter_handle</th>\n",
       "      <th>title</th>\n",
       "      <th>variety</th>\n",
       "      <th>winery</th>\n",
       "    </tr>\n",
       "  </thead>\n",
       "  <tbody>\n",
       "    <tr>\n",
       "      <th>0</th>\n",
       "      <td>Italy</td>\n",
       "      <td>Aromas include tropical fruit, broom, brimston...</td>\n",
       "      <td>Vulkà Bianco</td>\n",
       "      <td>87</td>\n",
       "      <td>NaN</td>\n",
       "      <td>Sicily &amp; Sardinia</td>\n",
       "      <td>Etna</td>\n",
       "      <td>NaN</td>\n",
       "      <td>Kerin O’Keefe</td>\n",
       "      <td>@kerinokeefe</td>\n",
       "      <td>Nicosia 2013 Vulkà Bianco  (Etna)</td>\n",
       "      <td>White Blend</td>\n",
       "      <td>Nicosia</td>\n",
       "    </tr>\n",
       "    <tr>\n",
       "      <th>1</th>\n",
       "      <td>Portugal</td>\n",
       "      <td>This is ripe and fruity, a wine that is smooth...</td>\n",
       "      <td>Avidagos</td>\n",
       "      <td>87</td>\n",
       "      <td>15.0</td>\n",
       "      <td>Douro</td>\n",
       "      <td>NaN</td>\n",
       "      <td>NaN</td>\n",
       "      <td>Roger Voss</td>\n",
       "      <td>@vossroger</td>\n",
       "      <td>Quinta dos Avidagos 2011 Avidagos Red (Douro)</td>\n",
       "      <td>Portuguese Red</td>\n",
       "      <td>Quinta dos Avidagos</td>\n",
       "    </tr>\n",
       "    <tr>\n",
       "      <th>2</th>\n",
       "      <td>US</td>\n",
       "      <td>Tart and snappy, the flavors of lime flesh and...</td>\n",
       "      <td>NaN</td>\n",
       "      <td>87</td>\n",
       "      <td>14.0</td>\n",
       "      <td>Oregon</td>\n",
       "      <td>Willamette Valley</td>\n",
       "      <td>Willamette Valley</td>\n",
       "      <td>Paul Gregutt</td>\n",
       "      <td>@paulgwine</td>\n",
       "      <td>Rainstorm 2013 Pinot Gris (Willamette Valley)</td>\n",
       "      <td>Pinot Gris</td>\n",
       "      <td>Rainstorm</td>\n",
       "    </tr>\n",
       "    <tr>\n",
       "      <th>3</th>\n",
       "      <td>US</td>\n",
       "      <td>Pineapple rind, lemon pith and orange blossom ...</td>\n",
       "      <td>Reserve Late Harvest</td>\n",
       "      <td>87</td>\n",
       "      <td>13.0</td>\n",
       "      <td>Michigan</td>\n",
       "      <td>Lake Michigan Shore</td>\n",
       "      <td>NaN</td>\n",
       "      <td>Alexander Peartree</td>\n",
       "      <td>NaN</td>\n",
       "      <td>St. Julian 2013 Reserve Late Harvest Riesling ...</td>\n",
       "      <td>Riesling</td>\n",
       "      <td>St. Julian</td>\n",
       "    </tr>\n",
       "    <tr>\n",
       "      <th>4</th>\n",
       "      <td>US</td>\n",
       "      <td>Much like the regular bottling from 2012, this...</td>\n",
       "      <td>Vintner's Reserve Wild Child Block</td>\n",
       "      <td>87</td>\n",
       "      <td>65.0</td>\n",
       "      <td>Oregon</td>\n",
       "      <td>Willamette Valley</td>\n",
       "      <td>Willamette Valley</td>\n",
       "      <td>Paul Gregutt</td>\n",
       "      <td>@paulgwine</td>\n",
       "      <td>Sweet Cheeks 2012 Vintner's Reserve Wild Child...</td>\n",
       "      <td>Pinot Noir</td>\n",
       "      <td>Sweet Cheeks</td>\n",
       "    </tr>\n",
       "  </tbody>\n",
       "</table>\n",
       "</div>"
      ],
      "text/plain": [
       "    country                                        description  \\\n",
       "0     Italy  Aromas include tropical fruit, broom, brimston...   \n",
       "1  Portugal  This is ripe and fruity, a wine that is smooth...   \n",
       "2        US  Tart and snappy, the flavors of lime flesh and...   \n",
       "3        US  Pineapple rind, lemon pith and orange blossom ...   \n",
       "4        US  Much like the regular bottling from 2012, this...   \n",
       "\n",
       "                          designation  points  price           province  \\\n",
       "0                        Vulkà Bianco      87    NaN  Sicily & Sardinia   \n",
       "1                            Avidagos      87   15.0              Douro   \n",
       "2                                 NaN      87   14.0             Oregon   \n",
       "3                Reserve Late Harvest      87   13.0           Michigan   \n",
       "4  Vintner's Reserve Wild Child Block      87   65.0             Oregon   \n",
       "\n",
       "              region_1           region_2         taster_name  \\\n",
       "0                 Etna                NaN       Kerin O’Keefe   \n",
       "1                  NaN                NaN          Roger Voss   \n",
       "2    Willamette Valley  Willamette Valley        Paul Gregutt   \n",
       "3  Lake Michigan Shore                NaN  Alexander Peartree   \n",
       "4    Willamette Valley  Willamette Valley        Paul Gregutt   \n",
       "\n",
       "  taster_twitter_handle                                              title  \\\n",
       "0          @kerinokeefe                  Nicosia 2013 Vulkà Bianco  (Etna)   \n",
       "1            @vossroger      Quinta dos Avidagos 2011 Avidagos Red (Douro)   \n",
       "2           @paulgwine       Rainstorm 2013 Pinot Gris (Willamette Valley)   \n",
       "3                   NaN  St. Julian 2013 Reserve Late Harvest Riesling ...   \n",
       "4           @paulgwine   Sweet Cheeks 2012 Vintner's Reserve Wild Child...   \n",
       "\n",
       "          variety               winery  \n",
       "0     White Blend              Nicosia  \n",
       "1  Portuguese Red  Quinta dos Avidagos  \n",
       "2      Pinot Gris            Rainstorm  \n",
       "3        Riesling           St. Julian  \n",
       "4      Pinot Noir         Sweet Cheeks  "
      ]
     },
     "execution_count": 59,
     "metadata": {},
     "output_type": "execute_result"
    }
   ],
   "source": [
    "reviews = pd.read_csv('winemag-data-130k-v2.csv', index_col = 0)\n",
    "reviews.head()"
   ]
  },
  {
   "cell_type": "code",
   "execution_count": 26,
   "metadata": {},
   "outputs": [
    {
     "data": {
      "text/plain": [
       "(129971, 13)"
      ]
     },
     "execution_count": 26,
     "metadata": {},
     "output_type": "execute_result"
    }
   ],
   "source": [
    "#checking the dimensions of the dataset\n",
    "reviews.shape"
   ]
  },
  {
   "cell_type": "markdown",
   "metadata": {},
   "source": [
    "it has about 130000 rows."
   ]
  },
  {
   "cell_type": "code",
   "execution_count": 27,
   "metadata": {},
   "outputs": [
    {
     "data": {
      "text/html": [
       "<div>\n",
       "<style scoped>\n",
       "    .dataframe tbody tr th:only-of-type {\n",
       "        vertical-align: middle;\n",
       "    }\n",
       "\n",
       "    .dataframe tbody tr th {\n",
       "        vertical-align: top;\n",
       "    }\n",
       "\n",
       "    .dataframe thead th {\n",
       "        text-align: right;\n",
       "    }\n",
       "</style>\n",
       "<table border=\"1\" class=\"dataframe\">\n",
       "  <thead>\n",
       "    <tr style=\"text-align: right;\">\n",
       "      <th></th>\n",
       "      <th>points</th>\n",
       "      <th>price</th>\n",
       "    </tr>\n",
       "  </thead>\n",
       "  <tbody>\n",
       "    <tr>\n",
       "      <th>count</th>\n",
       "      <td>129971.000000</td>\n",
       "      <td>120975.000000</td>\n",
       "    </tr>\n",
       "    <tr>\n",
       "      <th>mean</th>\n",
       "      <td>88.447138</td>\n",
       "      <td>35.363389</td>\n",
       "    </tr>\n",
       "    <tr>\n",
       "      <th>std</th>\n",
       "      <td>3.039730</td>\n",
       "      <td>41.022218</td>\n",
       "    </tr>\n",
       "    <tr>\n",
       "      <th>min</th>\n",
       "      <td>80.000000</td>\n",
       "      <td>4.000000</td>\n",
       "    </tr>\n",
       "    <tr>\n",
       "      <th>25%</th>\n",
       "      <td>86.000000</td>\n",
       "      <td>17.000000</td>\n",
       "    </tr>\n",
       "    <tr>\n",
       "      <th>50%</th>\n",
       "      <td>88.000000</td>\n",
       "      <td>25.000000</td>\n",
       "    </tr>\n",
       "    <tr>\n",
       "      <th>75%</th>\n",
       "      <td>91.000000</td>\n",
       "      <td>42.000000</td>\n",
       "    </tr>\n",
       "    <tr>\n",
       "      <th>max</th>\n",
       "      <td>100.000000</td>\n",
       "      <td>3300.000000</td>\n",
       "    </tr>\n",
       "  </tbody>\n",
       "</table>\n",
       "</div>"
      ],
      "text/plain": [
       "              points          price\n",
       "count  129971.000000  120975.000000\n",
       "mean       88.447138      35.363389\n",
       "std         3.039730      41.022218\n",
       "min        80.000000       4.000000\n",
       "25%        86.000000      17.000000\n",
       "50%        88.000000      25.000000\n",
       "75%        91.000000      42.000000\n",
       "max       100.000000    3300.000000"
      ]
     },
     "execution_count": 27,
     "metadata": {},
     "output_type": "execute_result"
    }
   ],
   "source": [
    "reviews.describe()"
   ]
  },
  {
   "cell_type": "code",
   "execution_count": 28,
   "metadata": {},
   "outputs": [
    {
     "name": "stdout",
     "output_type": "stream",
     "text": [
      "<class 'pandas.core.frame.DataFrame'>\n",
      "Index: 129971 entries, 0 to 129970\n",
      "Data columns (total 13 columns):\n",
      " #   Column                 Non-Null Count   Dtype  \n",
      "---  ------                 --------------   -----  \n",
      " 0   country                129908 non-null  object \n",
      " 1   description            129971 non-null  object \n",
      " 2   designation            92506 non-null   object \n",
      " 3   points                 129971 non-null  int64  \n",
      " 4   price                  120975 non-null  float64\n",
      " 5   province               129908 non-null  object \n",
      " 6   region_1               108724 non-null  object \n",
      " 7   region_2               50511 non-null   object \n",
      " 8   taster_name            103727 non-null  object \n",
      " 9   taster_twitter_handle  98758 non-null   object \n",
      " 10  title                  129971 non-null  object \n",
      " 11  variety                129970 non-null  object \n",
      " 12  winery                 129971 non-null  object \n",
      "dtypes: float64(1), int64(1), object(11)\n",
      "memory usage: 13.9+ MB\n"
     ]
    }
   ],
   "source": [
    "reviews.info()"
   ]
  },
  {
   "cell_type": "code",
   "execution_count": 30,
   "metadata": {},
   "outputs": [
    {
     "data": {
      "text/plain": [
       "0            Italy\n",
       "1         Portugal\n",
       "2               US\n",
       "3               US\n",
       "4               US\n",
       "            ...   \n",
       "129966     Germany\n",
       "129967          US\n",
       "129968      France\n",
       "129969      France\n",
       "129970      France\n",
       "Name: country, Length: 129971, dtype: object"
      ]
     },
     "execution_count": 30,
     "metadata": {},
     "output_type": "execute_result"
    }
   ],
   "source": [
    "#accessing columns of a dataset\n",
    "reviews.country #or reviews['country']"
   ]
  },
  {
   "cell_type": "code",
   "execution_count": 31,
   "metadata": {},
   "outputs": [
    {
     "data": {
      "text/plain": [
       "pandas.core.series.Series"
      ]
     },
     "execution_count": 31,
     "metadata": {},
     "output_type": "execute_result"
    }
   ],
   "source": [
    "type(reviews.country)\n",
    "#you have selected a series out of the dataframe"
   ]
  },
  {
   "cell_type": "code",
   "execution_count": 34,
   "metadata": {},
   "outputs": [
    {
     "data": {
      "text/plain": [
       "'Tart and snappy, the flavors of lime flesh and rind dominate. Some green pineapple pokes through, with crisp acidity underscoring the flavors. The wine was all stainless-steel fermented.'"
      ]
     },
     "execution_count": 34,
     "metadata": {},
     "output_type": "execute_result"
    }
   ],
   "source": [
    "#to get to a specific value, since a series seems like a dictionary\n",
    "#reviews.description[1]\n",
    "reviews['description'][2]"
   ]
  },
  {
   "cell_type": "markdown",
   "metadata": {},
   "source": [
    "Indexing in pandas"
   ]
  },
  {
   "cell_type": "code",
   "execution_count": 35,
   "metadata": {},
   "outputs": [
    {
     "data": {
      "text/plain": [
       "country                                                              Italy\n",
       "description              Aromas include tropical fruit, broom, brimston...\n",
       "designation                                                   Vulkà Bianco\n",
       "points                                                                  87\n",
       "price                                                                  NaN\n",
       "province                                                 Sicily & Sardinia\n",
       "region_1                                                              Etna\n",
       "region_2                                                               NaN\n",
       "taster_name                                                  Kerin O’Keefe\n",
       "taster_twitter_handle                                         @kerinokeefe\n",
       "title                                    Nicosia 2013 Vulkà Bianco  (Etna)\n",
       "variety                                                        White Blend\n",
       "winery                                                             Nicosia\n",
       "Name: 0, dtype: object"
      ]
     },
     "execution_count": 35,
     "metadata": {},
     "output_type": "execute_result"
    }
   ],
   "source": [
    "#index-based selection: selecting data based on its numerical position in the data. iloc follows this paradigm.\n",
    "reviews.iloc[0]"
   ]
  },
  {
   "cell_type": "markdown",
   "metadata": {},
   "source": [
    "## Both loc and iloc are row-first, column-second. This is the opposite of what we do in native Python, which is column-first, row-second.\n",
    "\n",
    "This means that it's marginally easier to retrieve rows, and marginally harder to get retrieve columns. To get a column with iloc, we can do the following:"
   ]
  },
  {
   "cell_type": "code",
   "execution_count": 40,
   "metadata": {},
   "outputs": [
    {
     "data": {
      "text/plain": [
       "0            Italy\n",
       "1         Portugal\n",
       "2               US\n",
       "3               US\n",
       "4               US\n",
       "            ...   \n",
       "129966     Germany\n",
       "129967          US\n",
       "129968      France\n",
       "129969      France\n",
       "129970      France\n",
       "Name: country, Length: 129971, dtype: object"
      ]
     },
     "execution_count": 40,
     "metadata": {},
     "output_type": "execute_result"
    }
   ],
   "source": [
    "reviews.iloc[:,0]"
   ]
  },
  {
   "cell_type": "code",
   "execution_count": 42,
   "metadata": {},
   "outputs": [
    {
     "data": {
      "text/html": [
       "<div>\n",
       "<style scoped>\n",
       "    .dataframe tbody tr th:only-of-type {\n",
       "        vertical-align: middle;\n",
       "    }\n",
       "\n",
       "    .dataframe tbody tr th {\n",
       "        vertical-align: top;\n",
       "    }\n",
       "\n",
       "    .dataframe thead th {\n",
       "        text-align: right;\n",
       "    }\n",
       "</style>\n",
       "<table border=\"1\" class=\"dataframe\">\n",
       "  <thead>\n",
       "    <tr style=\"text-align: right;\">\n",
       "      <th></th>\n",
       "      <th>country</th>\n",
       "      <th>description</th>\n",
       "      <th>designation</th>\n",
       "      <th>points</th>\n",
       "      <th>price</th>\n",
       "      <th>province</th>\n",
       "      <th>region_1</th>\n",
       "      <th>region_2</th>\n",
       "      <th>taster_name</th>\n",
       "      <th>taster_twitter_handle</th>\n",
       "      <th>title</th>\n",
       "      <th>variety</th>\n",
       "      <th>winery</th>\n",
       "    </tr>\n",
       "  </thead>\n",
       "  <tbody>\n",
       "    <tr>\n",
       "      <th>1</th>\n",
       "      <td>Portugal</td>\n",
       "      <td>This is ripe and fruity, a wine that is smooth...</td>\n",
       "      <td>Avidagos</td>\n",
       "      <td>87</td>\n",
       "      <td>15.0</td>\n",
       "      <td>Douro</td>\n",
       "      <td>NaN</td>\n",
       "      <td>NaN</td>\n",
       "      <td>Roger Voss</td>\n",
       "      <td>@vossroger</td>\n",
       "      <td>Quinta dos Avidagos 2011 Avidagos Red (Douro)</td>\n",
       "      <td>Portuguese Red</td>\n",
       "      <td>Quinta dos Avidagos</td>\n",
       "    </tr>\n",
       "    <tr>\n",
       "      <th>2</th>\n",
       "      <td>US</td>\n",
       "      <td>Tart and snappy, the flavors of lime flesh and...</td>\n",
       "      <td>NaN</td>\n",
       "      <td>87</td>\n",
       "      <td>14.0</td>\n",
       "      <td>Oregon</td>\n",
       "      <td>Willamette Valley</td>\n",
       "      <td>Willamette Valley</td>\n",
       "      <td>Paul Gregutt</td>\n",
       "      <td>@paulgwine</td>\n",
       "      <td>Rainstorm 2013 Pinot Gris (Willamette Valley)</td>\n",
       "      <td>Pinot Gris</td>\n",
       "      <td>Rainstorm</td>\n",
       "    </tr>\n",
       "  </tbody>\n",
       "</table>\n",
       "</div>"
      ],
      "text/plain": [
       "    country                                        description designation  \\\n",
       "1  Portugal  This is ripe and fruity, a wine that is smooth...    Avidagos   \n",
       "2        US  Tart and snappy, the flavors of lime flesh and...         NaN   \n",
       "\n",
       "   points  price province           region_1           region_2   taster_name  \\\n",
       "1      87   15.0    Douro                NaN                NaN    Roger Voss   \n",
       "2      87   14.0   Oregon  Willamette Valley  Willamette Valley  Paul Gregutt   \n",
       "\n",
       "  taster_twitter_handle                                          title  \\\n",
       "1            @vossroger  Quinta dos Avidagos 2011 Avidagos Red (Douro)   \n",
       "2           @paulgwine   Rainstorm 2013 Pinot Gris (Willamette Valley)   \n",
       "\n",
       "          variety               winery  \n",
       "1  Portuguese Red  Quinta dos Avidagos  \n",
       "2      Pinot Gris            Rainstorm  "
      ]
     },
     "execution_count": 42,
     "metadata": {},
     "output_type": "execute_result"
    }
   ],
   "source": [
    "#to select just the second and third entries\n",
    "reviews.iloc[1:3]"
   ]
  },
  {
   "cell_type": "code",
   "execution_count": 53,
   "metadata": {},
   "outputs": [
    {
     "name": "stdout",
     "output_type": "stream",
     "text": [
      "<class 'pandas.core.series.Series'>\n",
      "<class 'pandas.core.frame.DataFrame'>\n"
     ]
    }
   ],
   "source": [
    "#you can also just pass a list of the indices\n",
    "print(type(reviews.iloc[[1,2,3], 0]))\n",
    "#if you pass only one list you get a series but if you pass two, you get a dataframe\n",
    "print(type(reviews.iloc[[1,2,3],[0]]))"
   ]
  },
  {
   "cell_type": "code",
   "execution_count": 55,
   "metadata": {},
   "outputs": [
    {
     "data": {
      "text/html": [
       "<div>\n",
       "<style scoped>\n",
       "    .dataframe tbody tr th:only-of-type {\n",
       "        vertical-align: middle;\n",
       "    }\n",
       "\n",
       "    .dataframe tbody tr th {\n",
       "        vertical-align: top;\n",
       "    }\n",
       "\n",
       "    .dataframe thead th {\n",
       "        text-align: right;\n",
       "    }\n",
       "</style>\n",
       "<table border=\"1\" class=\"dataframe\">\n",
       "  <thead>\n",
       "    <tr style=\"text-align: right;\">\n",
       "      <th></th>\n",
       "      <th>country</th>\n",
       "      <th>description</th>\n",
       "      <th>designation</th>\n",
       "      <th>points</th>\n",
       "      <th>price</th>\n",
       "      <th>province</th>\n",
       "      <th>region_1</th>\n",
       "      <th>region_2</th>\n",
       "      <th>taster_name</th>\n",
       "      <th>taster_twitter_handle</th>\n",
       "      <th>title</th>\n",
       "      <th>variety</th>\n",
       "      <th>winery</th>\n",
       "    </tr>\n",
       "  </thead>\n",
       "  <tbody>\n",
       "    <tr>\n",
       "      <th>129969</th>\n",
       "      <td>France</td>\n",
       "      <td>A dry style of Pinot Gris, this is crisp with ...</td>\n",
       "      <td>NaN</td>\n",
       "      <td>90</td>\n",
       "      <td>32.0</td>\n",
       "      <td>Alsace</td>\n",
       "      <td>Alsace</td>\n",
       "      <td>NaN</td>\n",
       "      <td>Roger Voss</td>\n",
       "      <td>@vossroger</td>\n",
       "      <td>Domaine Marcel Deiss 2012 Pinot Gris (Alsace)</td>\n",
       "      <td>Pinot Gris</td>\n",
       "      <td>Domaine Marcel Deiss</td>\n",
       "    </tr>\n",
       "    <tr>\n",
       "      <th>129970</th>\n",
       "      <td>France</td>\n",
       "      <td>Big, rich and off-dry, this is powered by inte...</td>\n",
       "      <td>Lieu-dit Harth Cuvée Caroline</td>\n",
       "      <td>90</td>\n",
       "      <td>21.0</td>\n",
       "      <td>Alsace</td>\n",
       "      <td>Alsace</td>\n",
       "      <td>NaN</td>\n",
       "      <td>Roger Voss</td>\n",
       "      <td>@vossroger</td>\n",
       "      <td>Domaine Schoffit 2012 Lieu-dit Harth Cuvée Car...</td>\n",
       "      <td>Gewürztraminer</td>\n",
       "      <td>Domaine Schoffit</td>\n",
       "    </tr>\n",
       "  </tbody>\n",
       "</table>\n",
       "</div>"
      ],
      "text/plain": [
       "       country                                        description  \\\n",
       "129969  France  A dry style of Pinot Gris, this is crisp with ...   \n",
       "129970  France  Big, rich and off-dry, this is powered by inte...   \n",
       "\n",
       "                          designation  points  price province region_1  \\\n",
       "129969                            NaN      90   32.0   Alsace   Alsace   \n",
       "129970  Lieu-dit Harth Cuvée Caroline      90   21.0   Alsace   Alsace   \n",
       "\n",
       "       region_2 taster_name taster_twitter_handle  \\\n",
       "129969      NaN  Roger Voss            @vossroger   \n",
       "129970      NaN  Roger Voss            @vossroger   \n",
       "\n",
       "                                                    title         variety  \\\n",
       "129969      Domaine Marcel Deiss 2012 Pinot Gris (Alsace)      Pinot Gris   \n",
       "129970  Domaine Schoffit 2012 Lieu-dit Harth Cuvée Car...  Gewürztraminer   \n",
       "\n",
       "                      winery  \n",
       "129969  Domaine Marcel Deiss  \n",
       "129970      Domaine Schoffit  "
      ]
     },
     "execution_count": 55,
     "metadata": {},
     "output_type": "execute_result"
    }
   ],
   "source": [
    "#negative numbers can be used in selection as well\n",
    "reviews.iloc[-2:]"
   ]
  },
  {
   "cell_type": "markdown",
   "metadata": {},
   "source": [
    "# Label-based selection\n",
    "The second paradigm for attribute selection is the one followed by the loc operator: label-based selection. In this paradigm, it's the data index value, not its position, which matters."
   ]
  },
  {
   "cell_type": "code",
   "execution_count": 56,
   "metadata": {},
   "outputs": [
    {
     "data": {
      "text/plain": [
       "'Italy'"
      ]
     },
     "execution_count": 56,
     "metadata": {},
     "output_type": "execute_result"
    }
   ],
   "source": [
    "reviews.loc[0, 'country']"
   ]
  },
  {
   "cell_type": "markdown",
   "metadata": {},
   "source": [
    "iloc is conceptually simpler than loc because it ignores the dataset's indices. When we use iloc we treat the dataset like a big matrix (a list of lists), one that we have to index into by position. loc, by contrast, uses the information in the indices to do its work. Since your dataset usually has meaningful indices, it's usually easier to do things using loc"
   ]
  },
  {
   "cell_type": "markdown",
   "metadata": {},
   "source": [
    "iloc uses the Python stdlib indexing scheme, where the first element of the range is included and the last one excluded. So 0:10 will select entries 0,...,9. loc, meanwhile, indexes inclusively. So 0:10 will select entries 0,...,10."
   ]
  },
  {
   "cell_type": "code",
   "execution_count": null,
   "metadata": {},
   "outputs": [],
   "source": [
    "#manipulating the index\n",
    "reviews.set_index(\"title\")"
   ]
  },
  {
   "cell_type": "markdown",
   "metadata": {},
   "source": [
    "#Conditional selection"
   ]
  },
  {
   "cell_type": "code",
   "execution_count": 62,
   "metadata": {},
   "outputs": [
    {
     "data": {
      "text/plain": [
       "0          True\n",
       "1         False\n",
       "2         False\n",
       "3         False\n",
       "4         False\n",
       "          ...  \n",
       "129966    False\n",
       "129967    False\n",
       "129968    False\n",
       "129969    False\n",
       "129970    False\n",
       "Name: country, Length: 129971, dtype: bool"
      ]
     },
     "execution_count": 62,
     "metadata": {},
     "output_type": "execute_result"
    }
   ],
   "source": [
    "reviews.country == 'Italy'"
   ]
  },
  {
   "cell_type": "code",
   "execution_count": 73,
   "metadata": {},
   "outputs": [
    {
     "data": {
      "text/html": [
       "<div>\n",
       "<style scoped>\n",
       "    .dataframe tbody tr th:only-of-type {\n",
       "        vertical-align: middle;\n",
       "    }\n",
       "\n",
       "    .dataframe tbody tr th {\n",
       "        vertical-align: top;\n",
       "    }\n",
       "\n",
       "    .dataframe thead th {\n",
       "        text-align: right;\n",
       "    }\n",
       "</style>\n",
       "<table border=\"1\" class=\"dataframe\">\n",
       "  <thead>\n",
       "    <tr style=\"text-align: right;\">\n",
       "      <th></th>\n",
       "      <th>country</th>\n",
       "      <th>description</th>\n",
       "      <th>designation</th>\n",
       "      <th>points</th>\n",
       "      <th>price</th>\n",
       "      <th>province</th>\n",
       "      <th>region_1</th>\n",
       "      <th>region_2</th>\n",
       "      <th>taster_name</th>\n",
       "      <th>taster_twitter_handle</th>\n",
       "      <th>title</th>\n",
       "      <th>variety</th>\n",
       "      <th>winery</th>\n",
       "    </tr>\n",
       "  </thead>\n",
       "  <tbody>\n",
       "    <tr>\n",
       "      <th>0</th>\n",
       "      <td>Italy</td>\n",
       "      <td>Aromas include tropical fruit, broom, brimston...</td>\n",
       "      <td>Vulkà Bianco</td>\n",
       "      <td>87</td>\n",
       "      <td>NaN</td>\n",
       "      <td>Sicily &amp; Sardinia</td>\n",
       "      <td>Etna</td>\n",
       "      <td>NaN</td>\n",
       "      <td>Kerin O’Keefe</td>\n",
       "      <td>@kerinokeefe</td>\n",
       "      <td>Nicosia 2013 Vulkà Bianco  (Etna)</td>\n",
       "      <td>White Blend</td>\n",
       "      <td>Nicosia</td>\n",
       "    </tr>\n",
       "    <tr>\n",
       "      <th>6</th>\n",
       "      <td>Italy</td>\n",
       "      <td>Here's a bright, informal red that opens with ...</td>\n",
       "      <td>Belsito</td>\n",
       "      <td>87</td>\n",
       "      <td>16.0</td>\n",
       "      <td>Sicily &amp; Sardinia</td>\n",
       "      <td>Vittoria</td>\n",
       "      <td>NaN</td>\n",
       "      <td>Kerin O’Keefe</td>\n",
       "      <td>@kerinokeefe</td>\n",
       "      <td>Terre di Giurfo 2013 Belsito Frappato (Vittoria)</td>\n",
       "      <td>Frappato</td>\n",
       "      <td>Terre di Giurfo</td>\n",
       "    </tr>\n",
       "  </tbody>\n",
       "</table>\n",
       "</div>"
      ],
      "text/plain": [
       "  country                                        description   designation  \\\n",
       "0   Italy  Aromas include tropical fruit, broom, brimston...  Vulkà Bianco   \n",
       "6   Italy  Here's a bright, informal red that opens with ...       Belsito   \n",
       "\n",
       "   points  price           province  region_1 region_2    taster_name  \\\n",
       "0      87    NaN  Sicily & Sardinia      Etna      NaN  Kerin O’Keefe   \n",
       "6      87   16.0  Sicily & Sardinia  Vittoria      NaN  Kerin O’Keefe   \n",
       "\n",
       "  taster_twitter_handle                                             title  \\\n",
       "0          @kerinokeefe                 Nicosia 2013 Vulkà Bianco  (Etna)   \n",
       "6          @kerinokeefe  Terre di Giurfo 2013 Belsito Frappato (Vittoria)   \n",
       "\n",
       "       variety           winery  \n",
       "0  White Blend          Nicosia  \n",
       "6     Frappato  Terre di Giurfo  "
      ]
     },
     "execution_count": 73,
     "metadata": {},
     "output_type": "execute_result"
    }
   ],
   "source": [
    "#This operation produced a Series of True/False booleans based on the country of each record. This result can then be used inside of loc to select the relevant data:\n",
    "reviews.loc[reviews.country == 'Italy'][:2]"
   ]
  },
  {
   "cell_type": "code",
   "execution_count": 72,
   "metadata": {},
   "outputs": [
    {
     "data": {
      "text/html": [
       "<div>\n",
       "<style scoped>\n",
       "    .dataframe tbody tr th:only-of-type {\n",
       "        vertical-align: middle;\n",
       "    }\n",
       "\n",
       "    .dataframe tbody tr th {\n",
       "        vertical-align: top;\n",
       "    }\n",
       "\n",
       "    .dataframe thead th {\n",
       "        text-align: right;\n",
       "    }\n",
       "</style>\n",
       "<table border=\"1\" class=\"dataframe\">\n",
       "  <thead>\n",
       "    <tr style=\"text-align: right;\">\n",
       "      <th></th>\n",
       "      <th>country</th>\n",
       "      <th>description</th>\n",
       "      <th>designation</th>\n",
       "      <th>points</th>\n",
       "      <th>price</th>\n",
       "      <th>province</th>\n",
       "      <th>region_1</th>\n",
       "      <th>region_2</th>\n",
       "      <th>taster_name</th>\n",
       "      <th>taster_twitter_handle</th>\n",
       "      <th>title</th>\n",
       "      <th>variety</th>\n",
       "      <th>winery</th>\n",
       "    </tr>\n",
       "  </thead>\n",
       "  <tbody>\n",
       "    <tr>\n",
       "      <th>350</th>\n",
       "      <td>Italy</td>\n",
       "      <td>After a few minutes in the glass, this stunnin...</td>\n",
       "      <td>Vignolo Riserva</td>\n",
       "      <td>97</td>\n",
       "      <td>150.0</td>\n",
       "      <td>Piedmont</td>\n",
       "      <td>Barolo</td>\n",
       "      <td>NaN</td>\n",
       "      <td>Kerin O’Keefe</td>\n",
       "      <td>@kerinokeefe</td>\n",
       "      <td>Cavallotto 2010 Vignolo Riserva  (Barolo)</td>\n",
       "      <td>Nebbiolo</td>\n",
       "      <td>Cavallotto</td>\n",
       "    </tr>\n",
       "    <tr>\n",
       "      <th>361</th>\n",
       "      <td>Italy</td>\n",
       "      <td>Enticing scents of ripe berry, underbrush, gri...</td>\n",
       "      <td>Simposio</td>\n",
       "      <td>95</td>\n",
       "      <td>60.0</td>\n",
       "      <td>Piedmont</td>\n",
       "      <td>Barolo</td>\n",
       "      <td>NaN</td>\n",
       "      <td>Kerin O’Keefe</td>\n",
       "      <td>@kerinokeefe</td>\n",
       "      <td>Bel Colle 2012 Simposio  (Barolo)</td>\n",
       "      <td>Nebbiolo</td>\n",
       "      <td>Bel Colle</td>\n",
       "    </tr>\n",
       "  </tbody>\n",
       "</table>\n",
       "</div>"
      ],
      "text/plain": [
       "    country                                        description  \\\n",
       "350   Italy  After a few minutes in the glass, this stunnin...   \n",
       "361   Italy  Enticing scents of ripe berry, underbrush, gri...   \n",
       "\n",
       "         designation  points  price  province region_1 region_2  \\\n",
       "350  Vignolo Riserva      97  150.0  Piedmont   Barolo      NaN   \n",
       "361         Simposio      95   60.0  Piedmont   Barolo      NaN   \n",
       "\n",
       "       taster_name taster_twitter_handle  \\\n",
       "350  Kerin O’Keefe          @kerinokeefe   \n",
       "361  Kerin O’Keefe          @kerinokeefe   \n",
       "\n",
       "                                         title   variety      winery  \n",
       "350  Cavallotto 2010 Vignolo Riserva  (Barolo)  Nebbiolo  Cavallotto  \n",
       "361          Bel Colle 2012 Simposio  (Barolo)  Nebbiolo   Bel Colle  "
      ]
     },
     "execution_count": 72,
     "metadata": {},
     "output_type": "execute_result"
    }
   ],
   "source": [
    "reviews.loc[(reviews.country == 'Italy') & (reviews.points >= 95)][:2]\n",
    "#logical operators &, |"
   ]
  },
  {
   "cell_type": "code",
   "execution_count": 71,
   "metadata": {},
   "outputs": [
    {
     "data": {
      "text/html": [
       "<div>\n",
       "<style scoped>\n",
       "    .dataframe tbody tr th:only-of-type {\n",
       "        vertical-align: middle;\n",
       "    }\n",
       "\n",
       "    .dataframe tbody tr th {\n",
       "        vertical-align: top;\n",
       "    }\n",
       "\n",
       "    .dataframe thead th {\n",
       "        text-align: right;\n",
       "    }\n",
       "</style>\n",
       "<table border=\"1\" class=\"dataframe\">\n",
       "  <thead>\n",
       "    <tr style=\"text-align: right;\">\n",
       "      <th></th>\n",
       "      <th>country</th>\n",
       "      <th>description</th>\n",
       "      <th>designation</th>\n",
       "      <th>points</th>\n",
       "      <th>price</th>\n",
       "      <th>province</th>\n",
       "      <th>region_1</th>\n",
       "      <th>region_2</th>\n",
       "      <th>taster_name</th>\n",
       "      <th>taster_twitter_handle</th>\n",
       "      <th>title</th>\n",
       "      <th>variety</th>\n",
       "      <th>winery</th>\n",
       "    </tr>\n",
       "  </thead>\n",
       "  <tbody>\n",
       "    <tr>\n",
       "      <th>6673</th>\n",
       "      <td>India</td>\n",
       "      <td>The nose carries notes of cassis, blackberry a...</td>\n",
       "      <td>Dindori Reserve</td>\n",
       "      <td>93</td>\n",
       "      <td>20.0</td>\n",
       "      <td>Nashik</td>\n",
       "      <td>NaN</td>\n",
       "      <td>NaN</td>\n",
       "      <td>Mike DeSimone</td>\n",
       "      <td>@worldwineguys</td>\n",
       "      <td>Sula 2011 Dindori Reserve Shiraz (Nashik)</td>\n",
       "      <td>Shiraz</td>\n",
       "      <td>Sula</td>\n",
       "    </tr>\n",
       "    <tr>\n",
       "      <th>29302</th>\n",
       "      <td>India</td>\n",
       "      <td>A nose of cut herbs and just-mown grass backed...</td>\n",
       "      <td>NaN</td>\n",
       "      <td>89</td>\n",
       "      <td>12.0</td>\n",
       "      <td>Nashik</td>\n",
       "      <td>NaN</td>\n",
       "      <td>NaN</td>\n",
       "      <td>Mike DeSimone</td>\n",
       "      <td>@worldwineguys</td>\n",
       "      <td>Sula 2015 Sauvignon Blanc (Nashik)</td>\n",
       "      <td>Sauvignon Blanc</td>\n",
       "      <td>Sula</td>\n",
       "    </tr>\n",
       "  </tbody>\n",
       "</table>\n",
       "</div>"
      ],
      "text/plain": [
       "      country                                        description  \\\n",
       "6673    India  The nose carries notes of cassis, blackberry a...   \n",
       "29302   India  A nose of cut herbs and just-mown grass backed...   \n",
       "\n",
       "           designation  points  price province region_1 region_2  \\\n",
       "6673   Dindori Reserve      93   20.0   Nashik      NaN      NaN   \n",
       "29302              NaN      89   12.0   Nashik      NaN      NaN   \n",
       "\n",
       "         taster_name taster_twitter_handle  \\\n",
       "6673   Mike DeSimone        @worldwineguys   \n",
       "29302  Mike DeSimone        @worldwineguys   \n",
       "\n",
       "                                           title          variety winery  \n",
       "6673   Sula 2011 Dindori Reserve Shiraz (Nashik)           Shiraz   Sula  \n",
       "29302         Sula 2015 Sauvignon Blanc (Nashik)  Sauvignon Blanc   Sula  "
      ]
     },
     "execution_count": 71,
     "metadata": {},
     "output_type": "execute_result"
    }
   ],
   "source": [
    "#isin operator\n",
    "reviews.loc[reviews.country.isin(['India'])][:2]"
   ]
  },
  {
   "cell_type": "code",
   "execution_count": 75,
   "metadata": {},
   "outputs": [
    {
     "data": {
      "text/html": [
       "<div>\n",
       "<style scoped>\n",
       "    .dataframe tbody tr th:only-of-type {\n",
       "        vertical-align: middle;\n",
       "    }\n",
       "\n",
       "    .dataframe tbody tr th {\n",
       "        vertical-align: top;\n",
       "    }\n",
       "\n",
       "    .dataframe thead th {\n",
       "        text-align: right;\n",
       "    }\n",
       "</style>\n",
       "<table border=\"1\" class=\"dataframe\">\n",
       "  <thead>\n",
       "    <tr style=\"text-align: right;\">\n",
       "      <th></th>\n",
       "      <th>country</th>\n",
       "      <th>description</th>\n",
       "      <th>designation</th>\n",
       "      <th>points</th>\n",
       "      <th>price</th>\n",
       "      <th>province</th>\n",
       "      <th>region_1</th>\n",
       "      <th>region_2</th>\n",
       "      <th>taster_name</th>\n",
       "      <th>taster_twitter_handle</th>\n",
       "      <th>title</th>\n",
       "      <th>variety</th>\n",
       "      <th>winery</th>\n",
       "    </tr>\n",
       "  </thead>\n",
       "  <tbody>\n",
       "    <tr>\n",
       "      <th>0</th>\n",
       "      <td>Italy</td>\n",
       "      <td>Aromas include tropical fruit, broom, brimston...</td>\n",
       "      <td>Vulkà Bianco</td>\n",
       "      <td>87</td>\n",
       "      <td>NaN</td>\n",
       "      <td>Sicily &amp; Sardinia</td>\n",
       "      <td>Etna</td>\n",
       "      <td>NaN</td>\n",
       "      <td>Kerin O’Keefe</td>\n",
       "      <td>@kerinokeefe</td>\n",
       "      <td>Nicosia 2013 Vulkà Bianco  (Etna)</td>\n",
       "      <td>White Blend</td>\n",
       "      <td>Nicosia</td>\n",
       "    </tr>\n",
       "    <tr>\n",
       "      <th>13</th>\n",
       "      <td>Italy</td>\n",
       "      <td>This is dominated by oak and oak-driven aromas...</td>\n",
       "      <td>Rosso</td>\n",
       "      <td>87</td>\n",
       "      <td>NaN</td>\n",
       "      <td>Sicily &amp; Sardinia</td>\n",
       "      <td>Etna</td>\n",
       "      <td>NaN</td>\n",
       "      <td>Kerin O’Keefe</td>\n",
       "      <td>@kerinokeefe</td>\n",
       "      <td>Masseria Setteporte 2012 Rosso  (Etna)</td>\n",
       "      <td>Nerello Mascalese</td>\n",
       "      <td>Masseria Setteporte</td>\n",
       "    </tr>\n",
       "  </tbody>\n",
       "</table>\n",
       "</div>"
      ],
      "text/plain": [
       "   country                                        description   designation  \\\n",
       "0    Italy  Aromas include tropical fruit, broom, brimston...  Vulkà Bianco   \n",
       "13   Italy  This is dominated by oak and oak-driven aromas...         Rosso   \n",
       "\n",
       "    points  price           province region_1 region_2    taster_name  \\\n",
       "0       87    NaN  Sicily & Sardinia     Etna      NaN  Kerin O’Keefe   \n",
       "13      87    NaN  Sicily & Sardinia     Etna      NaN  Kerin O’Keefe   \n",
       "\n",
       "   taster_twitter_handle                                   title  \\\n",
       "0           @kerinokeefe       Nicosia 2013 Vulkà Bianco  (Etna)   \n",
       "13          @kerinokeefe  Masseria Setteporte 2012 Rosso  (Etna)   \n",
       "\n",
       "              variety               winery  \n",
       "0         White Blend              Nicosia  \n",
       "13  Nerello Mascalese  Masseria Setteporte  "
      ]
     },
     "execution_count": 75,
     "metadata": {},
     "output_type": "execute_result"
    }
   ],
   "source": [
    "#isnull and notnull\n",
    "reviews.loc[reviews.price.isnull()][:2]"
   ]
  },
  {
   "cell_type": "code",
   "execution_count": null,
   "metadata": {},
   "outputs": [],
   "source": [
    "#assigning a constant value to each field in a series\n",
    "reviews['critic'] = 'everyone'"
   ]
  },
  {
   "cell_type": "code",
   "execution_count": null,
   "metadata": {},
   "outputs": [],
   "source": [
    "#or an iterable range of values\n",
    "reviews['index_backwards'] = range(len(reviews), 0, -1)"
   ]
  },
  {
   "cell_type": "code",
   "execution_count": 76,
   "metadata": {},
   "outputs": [
    {
     "name": "stdout",
     "output_type": "stream",
     "text": [
      "count     129908\n",
      "unique        43\n",
      "top           US\n",
      "freq       54504\n",
      "Name: country, dtype: object\n",
      "count    129971.000000\n",
      "mean         88.447138\n",
      "std           3.039730\n",
      "min          80.000000\n",
      "25%          86.000000\n",
      "50%          88.000000\n",
      "75%          91.000000\n",
      "max         100.000000\n",
      "Name: points, dtype: float64\n"
     ]
    }
   ],
   "source": [
    "print(reviews.country.describe())\n",
    "print(reviews.points.describe())"
   ]
  },
  {
   "cell_type": "code",
   "execution_count": 79,
   "metadata": {},
   "outputs": [
    {
     "data": {
      "text/plain": [
       "88.44713820775404"
      ]
     },
     "execution_count": 79,
     "metadata": {},
     "output_type": "execute_result"
    }
   ],
   "source": [
    "reviews.points.mean()"
   ]
  },
  {
   "cell_type": "code",
   "execution_count": 80,
   "metadata": {},
   "outputs": [
    {
     "data": {
      "text/plain": [
       "array(['Kerin O’Keefe', 'Roger Voss', 'Paul Gregutt',\n",
       "       'Alexander Peartree', 'Michael Schachner', 'Anna Lee C. Iijima',\n",
       "       'Virginie Boone', 'Matt Kettmann', nan, 'Sean P. Sullivan',\n",
       "       'Jim Gordon', 'Joe Czerwinski', 'Anne Krebiehl\\xa0MW',\n",
       "       'Lauren Buzzeo', 'Mike DeSimone', 'Jeff Jenssen',\n",
       "       'Susan Kostrzewa', 'Carrie Dykes', 'Fiona Adams',\n",
       "       'Christina Pickard'], dtype=object)"
      ]
     },
     "execution_count": 80,
     "metadata": {},
     "output_type": "execute_result"
    }
   ],
   "source": [
    "reviews.taster_name.unique()"
   ]
  },
  {
   "cell_type": "code",
   "execution_count": 81,
   "metadata": {},
   "outputs": [
    {
     "data": {
      "text/plain": [
       "taster_name\n",
       "Roger Voss            25514\n",
       "Michael Schachner     15134\n",
       "Kerin O’Keefe         10776\n",
       "Virginie Boone         9537\n",
       "Paul Gregutt           9532\n",
       "Matt Kettmann          6332\n",
       "Joe Czerwinski         5147\n",
       "Sean P. Sullivan       4966\n",
       "Anna Lee C. Iijima     4415\n",
       "Jim Gordon             4177\n",
       "Anne Krebiehl MW       3685\n",
       "Lauren Buzzeo          1835\n",
       "Susan Kostrzewa        1085\n",
       "Mike DeSimone           514\n",
       "Jeff Jenssen            491\n",
       "Alexander Peartree      415\n",
       "Carrie Dykes            139\n",
       "Fiona Adams              27\n",
       "Christina Pickard         6\n",
       "Name: count, dtype: int64"
      ]
     },
     "execution_count": 81,
     "metadata": {},
     "output_type": "execute_result"
    }
   ],
   "source": [
    "reviews.taster_name.value_counts()"
   ]
  },
  {
   "cell_type": "markdown",
   "metadata": {},
   "source": [
    "# Maps"
   ]
  },
  {
   "cell_type": "markdown",
   "metadata": {},
   "source": [
    "# Datatypes and missing values"
   ]
  },
  {
   "cell_type": "code",
   "execution_count": 83,
   "metadata": {},
   "outputs": [
    {
     "data": {
      "text/plain": [
       "dtype('float64')"
      ]
     },
     "execution_count": 83,
     "metadata": {},
     "output_type": "execute_result"
    }
   ],
   "source": [
    "#to get the datatype for a particular series\n",
    "reviews.price.dtype"
   ]
  },
  {
   "cell_type": "code",
   "execution_count": 84,
   "metadata": {},
   "outputs": [
    {
     "data": {
      "text/plain": [
       "country                   object\n",
       "description               object\n",
       "designation               object\n",
       "points                     int64\n",
       "price                    float64\n",
       "province                  object\n",
       "region_1                  object\n",
       "region_2                  object\n",
       "taster_name               object\n",
       "taster_twitter_handle     object\n",
       "title                     object\n",
       "variety                   object\n",
       "winery                    object\n",
       "dtype: object"
      ]
     },
     "execution_count": 84,
     "metadata": {},
     "output_type": "execute_result"
    }
   ],
   "source": [
    "#alternatively, for all series\n",
    "reviews.dtypes"
   ]
  },
  {
   "cell_type": "code",
   "execution_count": 87,
   "metadata": {},
   "outputs": [
    {
     "data": {
      "text/plain": [
       "0         87.0\n",
       "1         87.0\n",
       "2         87.0\n",
       "3         87.0\n",
       "4         87.0\n",
       "          ... \n",
       "129966    90.0\n",
       "129967    90.0\n",
       "129968    90.0\n",
       "129969    90.0\n",
       "129970    90.0\n",
       "Name: points, Length: 129971, dtype: float32"
      ]
     },
     "execution_count": 87,
     "metadata": {},
     "output_type": "execute_result"
    }
   ],
   "source": [
    "#converting from one type to another\n",
    "reviews.points.astype('float32')"
   ]
  },
  {
   "cell_type": "markdown",
   "metadata": {},
   "source": [
    "Missing data\n",
    "Entries missing values are given the value NaN, short for \"Not a Number\". For technical reasons these NaN values are always of the float64 dtype."
   ]
  },
  {
   "cell_type": "code",
   "execution_count": 88,
   "metadata": {},
   "outputs": [
    {
     "data": {
      "text/html": [
       "<div>\n",
       "<style scoped>\n",
       "    .dataframe tbody tr th:only-of-type {\n",
       "        vertical-align: middle;\n",
       "    }\n",
       "\n",
       "    .dataframe tbody tr th {\n",
       "        vertical-align: top;\n",
       "    }\n",
       "\n",
       "    .dataframe thead th {\n",
       "        text-align: right;\n",
       "    }\n",
       "</style>\n",
       "<table border=\"1\" class=\"dataframe\">\n",
       "  <thead>\n",
       "    <tr style=\"text-align: right;\">\n",
       "      <th></th>\n",
       "      <th>country</th>\n",
       "      <th>description</th>\n",
       "      <th>designation</th>\n",
       "      <th>points</th>\n",
       "      <th>price</th>\n",
       "      <th>province</th>\n",
       "      <th>region_1</th>\n",
       "      <th>region_2</th>\n",
       "      <th>taster_name</th>\n",
       "      <th>taster_twitter_handle</th>\n",
       "      <th>title</th>\n",
       "      <th>variety</th>\n",
       "      <th>winery</th>\n",
       "    </tr>\n",
       "  </thead>\n",
       "  <tbody>\n",
       "    <tr>\n",
       "      <th>913</th>\n",
       "      <td>NaN</td>\n",
       "      <td>Amber in color, this wine has aromas of peach ...</td>\n",
       "      <td>Asureti Valley</td>\n",
       "      <td>87</td>\n",
       "      <td>30.0</td>\n",
       "      <td>NaN</td>\n",
       "      <td>NaN</td>\n",
       "      <td>NaN</td>\n",
       "      <td>Mike DeSimone</td>\n",
       "      <td>@worldwineguys</td>\n",
       "      <td>Gotsa Family Wines 2014 Asureti Valley Chinuri</td>\n",
       "      <td>Chinuri</td>\n",
       "      <td>Gotsa Family Wines</td>\n",
       "    </tr>\n",
       "    <tr>\n",
       "      <th>3131</th>\n",
       "      <td>NaN</td>\n",
       "      <td>Soft, fruity and juicy, this is a pleasant, si...</td>\n",
       "      <td>Partager</td>\n",
       "      <td>83</td>\n",
       "      <td>NaN</td>\n",
       "      <td>NaN</td>\n",
       "      <td>NaN</td>\n",
       "      <td>NaN</td>\n",
       "      <td>Roger Voss</td>\n",
       "      <td>@vossroger</td>\n",
       "      <td>Barton &amp; Guestier NV Partager Red</td>\n",
       "      <td>Red Blend</td>\n",
       "      <td>Barton &amp; Guestier</td>\n",
       "    </tr>\n",
       "    <tr>\n",
       "      <th>4243</th>\n",
       "      <td>NaN</td>\n",
       "      <td>Violet-red in color, this semisweet wine has a...</td>\n",
       "      <td>Red Naturally Semi-Sweet</td>\n",
       "      <td>88</td>\n",
       "      <td>18.0</td>\n",
       "      <td>NaN</td>\n",
       "      <td>NaN</td>\n",
       "      <td>NaN</td>\n",
       "      <td>Mike DeSimone</td>\n",
       "      <td>@worldwineguys</td>\n",
       "      <td>Kakhetia Traditional Winemaking 2012 Red Natur...</td>\n",
       "      <td>Ojaleshi</td>\n",
       "      <td>Kakhetia Traditional Winemaking</td>\n",
       "    </tr>\n",
       "    <tr>\n",
       "      <th>9509</th>\n",
       "      <td>NaN</td>\n",
       "      <td>This mouthwatering blend starts with a nose of...</td>\n",
       "      <td>Theopetra Malagouzia-Assyrtiko</td>\n",
       "      <td>92</td>\n",
       "      <td>28.0</td>\n",
       "      <td>NaN</td>\n",
       "      <td>NaN</td>\n",
       "      <td>NaN</td>\n",
       "      <td>Susan Kostrzewa</td>\n",
       "      <td>@suskostrzewa</td>\n",
       "      <td>Tsililis 2015 Theopetra Malagouzia-Assyrtiko W...</td>\n",
       "      <td>White Blend</td>\n",
       "      <td>Tsililis</td>\n",
       "    </tr>\n",
       "    <tr>\n",
       "      <th>9750</th>\n",
       "      <td>NaN</td>\n",
       "      <td>This orange-style wine has a cloudy yellow-gol...</td>\n",
       "      <td>Orange Nikolaevo Vineyard</td>\n",
       "      <td>89</td>\n",
       "      <td>28.0</td>\n",
       "      <td>NaN</td>\n",
       "      <td>NaN</td>\n",
       "      <td>NaN</td>\n",
       "      <td>Jeff Jenssen</td>\n",
       "      <td>@worldwineguys</td>\n",
       "      <td>Ross-idi 2015 Orange Nikolaevo Vineyard Chardo...</td>\n",
       "      <td>Chardonnay</td>\n",
       "      <td>Ross-idi</td>\n",
       "    </tr>\n",
       "    <tr>\n",
       "      <th>...</th>\n",
       "      <td>...</td>\n",
       "      <td>...</td>\n",
       "      <td>...</td>\n",
       "      <td>...</td>\n",
       "      <td>...</td>\n",
       "      <td>...</td>\n",
       "      <td>...</td>\n",
       "      <td>...</td>\n",
       "      <td>...</td>\n",
       "      <td>...</td>\n",
       "      <td>...</td>\n",
       "      <td>...</td>\n",
       "      <td>...</td>\n",
       "    </tr>\n",
       "    <tr>\n",
       "      <th>124176</th>\n",
       "      <td>NaN</td>\n",
       "      <td>This Swiss red blend is composed of four varie...</td>\n",
       "      <td>Les Romaines</td>\n",
       "      <td>90</td>\n",
       "      <td>30.0</td>\n",
       "      <td>NaN</td>\n",
       "      <td>NaN</td>\n",
       "      <td>NaN</td>\n",
       "      <td>Jeff Jenssen</td>\n",
       "      <td>@worldwineguys</td>\n",
       "      <td>Les Frères Dutruy 2014 Les Romaines Red</td>\n",
       "      <td>Red Blend</td>\n",
       "      <td>Les Frères Dutruy</td>\n",
       "    </tr>\n",
       "    <tr>\n",
       "      <th>129407</th>\n",
       "      <td>NaN</td>\n",
       "      <td>Dry spicy aromas of dusty plum and tomato add ...</td>\n",
       "      <td>Reserve</td>\n",
       "      <td>89</td>\n",
       "      <td>22.0</td>\n",
       "      <td>NaN</td>\n",
       "      <td>NaN</td>\n",
       "      <td>NaN</td>\n",
       "      <td>Michael Schachner</td>\n",
       "      <td>@wineschach</td>\n",
       "      <td>El Capricho 2015 Reserve Cabernet Sauvignon</td>\n",
       "      <td>Cabernet Sauvignon</td>\n",
       "      <td>El Capricho</td>\n",
       "    </tr>\n",
       "    <tr>\n",
       "      <th>129408</th>\n",
       "      <td>NaN</td>\n",
       "      <td>El Capricho is one of Uruguay's more consisten...</td>\n",
       "      <td>Reserve</td>\n",
       "      <td>89</td>\n",
       "      <td>22.0</td>\n",
       "      <td>NaN</td>\n",
       "      <td>NaN</td>\n",
       "      <td>NaN</td>\n",
       "      <td>Michael Schachner</td>\n",
       "      <td>@wineschach</td>\n",
       "      <td>El Capricho 2015 Reserve Tempranillo</td>\n",
       "      <td>Tempranillo</td>\n",
       "      <td>El Capricho</td>\n",
       "    </tr>\n",
       "    <tr>\n",
       "      <th>129590</th>\n",
       "      <td>NaN</td>\n",
       "      <td>A blend of 60% Syrah, 30% Cabernet Sauvignon a...</td>\n",
       "      <td>Shah</td>\n",
       "      <td>90</td>\n",
       "      <td>30.0</td>\n",
       "      <td>NaN</td>\n",
       "      <td>NaN</td>\n",
       "      <td>NaN</td>\n",
       "      <td>Mike DeSimone</td>\n",
       "      <td>@worldwineguys</td>\n",
       "      <td>Büyülübağ 2012 Shah Red</td>\n",
       "      <td>Red Blend</td>\n",
       "      <td>Büyülübağ</td>\n",
       "    </tr>\n",
       "    <tr>\n",
       "      <th>129900</th>\n",
       "      <td>NaN</td>\n",
       "      <td>This wine offers a delightful bouquet of black...</td>\n",
       "      <td>NaN</td>\n",
       "      <td>91</td>\n",
       "      <td>32.0</td>\n",
       "      <td>NaN</td>\n",
       "      <td>NaN</td>\n",
       "      <td>NaN</td>\n",
       "      <td>Mike DeSimone</td>\n",
       "      <td>@worldwineguys</td>\n",
       "      <td>Psagot 2014 Merlot</td>\n",
       "      <td>Merlot</td>\n",
       "      <td>Psagot</td>\n",
       "    </tr>\n",
       "  </tbody>\n",
       "</table>\n",
       "<p>63 rows × 13 columns</p>\n",
       "</div>"
      ],
      "text/plain": [
       "       country                                        description  \\\n",
       "913        NaN  Amber in color, this wine has aromas of peach ...   \n",
       "3131       NaN  Soft, fruity and juicy, this is a pleasant, si...   \n",
       "4243       NaN  Violet-red in color, this semisweet wine has a...   \n",
       "9509       NaN  This mouthwatering blend starts with a nose of...   \n",
       "9750       NaN  This orange-style wine has a cloudy yellow-gol...   \n",
       "...        ...                                                ...   \n",
       "124176     NaN  This Swiss red blend is composed of four varie...   \n",
       "129407     NaN  Dry spicy aromas of dusty plum and tomato add ...   \n",
       "129408     NaN  El Capricho is one of Uruguay's more consisten...   \n",
       "129590     NaN  A blend of 60% Syrah, 30% Cabernet Sauvignon a...   \n",
       "129900     NaN  This wine offers a delightful bouquet of black...   \n",
       "\n",
       "                           designation  points  price province region_1  \\\n",
       "913                     Asureti Valley      87   30.0      NaN      NaN   \n",
       "3131                          Partager      83    NaN      NaN      NaN   \n",
       "4243          Red Naturally Semi-Sweet      88   18.0      NaN      NaN   \n",
       "9509    Theopetra Malagouzia-Assyrtiko      92   28.0      NaN      NaN   \n",
       "9750         Orange Nikolaevo Vineyard      89   28.0      NaN      NaN   \n",
       "...                                ...     ...    ...      ...      ...   \n",
       "124176                    Les Romaines      90   30.0      NaN      NaN   \n",
       "129407                         Reserve      89   22.0      NaN      NaN   \n",
       "129408                         Reserve      89   22.0      NaN      NaN   \n",
       "129590                            Shah      90   30.0      NaN      NaN   \n",
       "129900                             NaN      91   32.0      NaN      NaN   \n",
       "\n",
       "       region_2        taster_name taster_twitter_handle  \\\n",
       "913         NaN      Mike DeSimone        @worldwineguys   \n",
       "3131        NaN         Roger Voss            @vossroger   \n",
       "4243        NaN      Mike DeSimone        @worldwineguys   \n",
       "9509        NaN    Susan Kostrzewa         @suskostrzewa   \n",
       "9750        NaN       Jeff Jenssen        @worldwineguys   \n",
       "...         ...                ...                   ...   \n",
       "124176      NaN       Jeff Jenssen        @worldwineguys   \n",
       "129407      NaN  Michael Schachner           @wineschach   \n",
       "129408      NaN  Michael Schachner           @wineschach   \n",
       "129590      NaN      Mike DeSimone        @worldwineguys   \n",
       "129900      NaN      Mike DeSimone        @worldwineguys   \n",
       "\n",
       "                                                    title             variety  \\\n",
       "913        Gotsa Family Wines 2014 Asureti Valley Chinuri             Chinuri   \n",
       "3131                    Barton & Guestier NV Partager Red           Red Blend   \n",
       "4243    Kakhetia Traditional Winemaking 2012 Red Natur...            Ojaleshi   \n",
       "9509    Tsililis 2015 Theopetra Malagouzia-Assyrtiko W...         White Blend   \n",
       "9750    Ross-idi 2015 Orange Nikolaevo Vineyard Chardo...          Chardonnay   \n",
       "...                                                   ...                 ...   \n",
       "124176            Les Frères Dutruy 2014 Les Romaines Red           Red Blend   \n",
       "129407        El Capricho 2015 Reserve Cabernet Sauvignon  Cabernet Sauvignon   \n",
       "129408               El Capricho 2015 Reserve Tempranillo         Tempranillo   \n",
       "129590                            Büyülübağ 2012 Shah Red           Red Blend   \n",
       "129900                                 Psagot 2014 Merlot              Merlot   \n",
       "\n",
       "                                 winery  \n",
       "913                  Gotsa Family Wines  \n",
       "3131                  Barton & Guestier  \n",
       "4243    Kakhetia Traditional Winemaking  \n",
       "9509                           Tsililis  \n",
       "9750                           Ross-idi  \n",
       "...                                 ...  \n",
       "124176                Les Frères Dutruy  \n",
       "129407                      El Capricho  \n",
       "129408                      El Capricho  \n",
       "129590                        Büyülübağ  \n",
       "129900                           Psagot  \n",
       "\n",
       "[63 rows x 13 columns]"
      ]
     },
     "execution_count": 88,
     "metadata": {},
     "output_type": "execute_result"
    }
   ],
   "source": [
    "reviews[reviews.country.isnull()]"
   ]
  },
  {
   "cell_type": "code",
   "execution_count": 89,
   "metadata": {},
   "outputs": [
    {
     "data": {
      "text/plain": [
       "0            Italy\n",
       "1         Portugal\n",
       "2               US\n",
       "3               US\n",
       "4               US\n",
       "            ...   \n",
       "129966     Germany\n",
       "129967          US\n",
       "129968      France\n",
       "129969      France\n",
       "129970      France\n",
       "Name: country, Length: 129971, dtype: object"
      ]
     },
     "execution_count": 89,
     "metadata": {},
     "output_type": "execute_result"
    }
   ],
   "source": [
    "reviews.country.fillna(\"Unknown\")"
   ]
  },
  {
   "cell_type": "code",
   "execution_count": 90,
   "metadata": {},
   "outputs": [
    {
     "data": {
      "text/plain": [
       "0             @kerino\n",
       "1          @vossroger\n",
       "2         @paulgwine \n",
       "3                 NaN\n",
       "4         @paulgwine \n",
       "             ...     \n",
       "129966            NaN\n",
       "129967    @paulgwine \n",
       "129968     @vossroger\n",
       "129969     @vossroger\n",
       "129970     @vossroger\n",
       "Name: taster_twitter_handle, Length: 129971, dtype: object"
      ]
     },
     "execution_count": 90,
     "metadata": {},
     "output_type": "execute_result"
    }
   ],
   "source": [
    "reviews.taster_twitter_handle.replace(\"@kerinokeefe\", \"@kerino\")"
   ]
  },
  {
   "cell_type": "code",
   "execution_count": null,
   "metadata": {},
   "outputs": [],
   "source": [
    "#rename lets you change row/col names, just specify .rename(columns/index = {old:new,})"
   ]
  }
 ],
 "metadata": {
  "colab": {
   "provenance": []
  },
  "kernelspec": {
   "display_name": "Python 3 (ipykernel)",
   "language": "python",
   "name": "python3"
  },
  "language_info": {
   "codemirror_mode": {
    "name": "ipython",
    "version": 3
   },
   "file_extension": ".py",
   "mimetype": "text/x-python",
   "name": "python",
   "nbconvert_exporter": "python",
   "pygments_lexer": "ipython3",
   "version": "3.12.3"
  }
 },
 "nbformat": 4,
 "nbformat_minor": 4
}
