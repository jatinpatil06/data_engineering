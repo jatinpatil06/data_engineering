{
 "cells": [
  {
   "cell_type": "code",
   "execution_count": 66,
   "id": "1d6cef26-3ddd-45a1-bbe0-20f64c879ef6",
   "metadata": {},
   "outputs": [],
   "source": [
    "import numpy as np\n",
    "from sklearn.feature_extraction.text import CountVectorizer\n",
    "from sklearn.metrics.pairwise import cosine_similarity\n",
    "from sklearn.metrics import jaccard_score\n",
    "from scipy.spatial import distance\n",
    "from scipy.special import rel_entr\n",
    "from scipy.spatial.distance import pdist, squareform"
   ]
  },
  {
   "cell_type": "code",
   "execution_count": 4,
   "id": "7fd4b129-96a5-4565-9d81-0686df0a676b",
   "metadata": {},
   "outputs": [],
   "source": [
    "doc1 = \"I love machine learning and data science\"\n",
    "doc2 = \"Machine learning is my passion\""
   ]
  },
  {
   "cell_type": "code",
   "execution_count": 5,
   "id": "94a9f6a6-77c8-439a-92c2-0666994f735f",
   "metadata": {},
   "outputs": [],
   "source": [
    "#creating the bag of words\n",
    "v = CountVectorizer()\n",
    "bow = v.fit_transform([doc1, doc2])"
   ]
  },
  {
   "cell_type": "code",
   "execution_count": 8,
   "id": "8843ea9f-f82f-4582-aa88-53e291cdf6a8",
   "metadata": {},
   "outputs": [
    {
     "data": {
      "text/plain": [
       "array([[1, 1, 0, 1, 1, 1, 0, 0, 1],\n",
       "       [0, 0, 1, 1, 0, 1, 1, 1, 0]], dtype=int64)"
      ]
     },
     "execution_count": 8,
     "metadata": {},
     "output_type": "execute_result"
    }
   ],
   "source": [
    "bow.toarray()"
   ]
  },
  {
   "cell_type": "code",
   "execution_count": 10,
   "id": "c9792912-6668-4819-ab65-87ab597384bb",
   "metadata": {},
   "outputs": [
    {
     "data": {
      "text/plain": [
       "array(['and', 'data', 'is', 'learning', 'love', 'machine', 'my',\n",
       "       'passion', 'science'], dtype=object)"
      ]
     },
     "execution_count": 10,
     "metadata": {},
     "output_type": "execute_result"
    }
   ],
   "source": [
    "v.get_feature_names_out()"
   ]
  },
  {
   "cell_type": "code",
   "execution_count": 27,
   "id": "b03e58b3-b938-4fb3-aa82-38a444177208",
   "metadata": {},
   "outputs": [],
   "source": [
    "#Set theory based Similarity Measure (STB-SM)\n",
    "def stb_sm(bow):\n",
    "    doc1 = bow[0]\n",
    "    doc2 = bow[1]\n",
    "    x1, x2 = 0,0\n",
    "    y1, y2 = 0,0\n",
    "    z1, z2 = 0,0\n",
    "    #finding out the subvalues\n",
    "    for i in range(len(doc1)):\n",
    "        if doc1[i] != 0 and doc2[i] != 0:\n",
    "            x1 += doc1[i]\n",
    "            x2 += doc2[i]\n",
    "        if doc1[i] != 0 and doc2[i] == 0:\n",
    "            y1 += doc1[i]\n",
    "        if doc2[i] != 0 and doc1[i] == 0:\n",
    "            y2 += doc2[i]\n",
    "        z1 += doc1[i]\n",
    "        z2 += doc2[i]\n",
    "        #print(x1,x2,y1,y2,z1,z2)\n",
    "    #calculating the final parameters\n",
    "    X = x1 * x2\n",
    "    Y = y1 * y2\n",
    "    Z = z1 * z2\n",
    "    stb_val = (X / Z) * (1 - Y / Z)\n",
    "    return stb_val"
   ]
  },
  {
   "cell_type": "code",
   "execution_count": 29,
   "id": "e59837e7-e51e-4329-8737-df3559b6321a",
   "metadata": {},
   "outputs": [
    {
     "data": {
      "text/plain": [
       "0.4239348184643264"
      ]
     },
     "execution_count": 29,
     "metadata": {},
     "output_type": "execute_result"
    }
   ],
   "source": [
    "test_1 = [[2,5,7,8,0,9],[9,0,0,6,5,1]]\n",
    "stb_sm(test_1)"
   ]
  },
  {
   "cell_type": "code",
   "execution_count": 33,
   "id": "b19512e7-b848-43d7-930a-a9685b4d2e9b",
   "metadata": {},
   "outputs": [
    {
     "data": {
      "text/plain": [
       "array([[0.4199918]])"
      ]
     },
     "execution_count": 33,
     "metadata": {},
     "output_type": "execute_result"
    }
   ],
   "source": [
    "cosine_similarity([test_1[0]], [test_1[1]])"
   ]
  },
  {
   "cell_type": "code",
   "execution_count": 67,
   "id": "b8fb69b7-7299-4456-8cf1-77cf8a8fda8a",
   "metadata": {},
   "outputs": [],
   "source": [
    "def get_similarities(bow):\n",
    "    #Cosine similarity is calculated as the dot product of the two document vectors divided by the product of their magnitudes.\n",
    "    print(\"Cosine :\", cosine_similarity([bow[0]], [bow[1]])[0])\n",
    "\n",
    "    #Jaccard similarity\n",
    "    # Convert to binary by treating non-zero elements as 1 (presence) and zero as 0 (absence)\n",
    "    test_1_binary = [[1 if x > 0 else 0 for x in bow[0]], [1 if x > 0 else 0 for x in bow[1]]]\n",
    "    print(\"Jaccard :\", jaccard_score(test_1_binary[0], test_1_binary[1]))\n",
    "\n",
    "    #Euclidean Distance\n",
    "    print(\"Euclidean :\", distance.euclidean(bow[0], bow[1]))\n",
    "\n",
    "    #Manhattan Distance\n",
    "    print(\"Manhattan :\", distance.cityblock(bow[0], bow[1]))\n",
    "\n",
    "    #The Bhattacharyya distance measures the similarity of two probability distributions.\n",
    "    epsilon = 1e-10\n",
    "    vec_1_prob = normalize(np.array(bow[0]) + epsilon)\n",
    "    vec_2_prob = normalize(np.array(bow[1]) + epsilon)\n",
    "    bhattacharyya_distance = -np.log(np.sum(np.sqrt(vec_1_prob * vec_2_prob)))\n",
    "    print(\"Bhattacharyya :\", bhattacharyya_distance)\n",
    "\n",
    "    #KL divergence is not symmetric and assumes that A and B are non-negative and normalized.\n",
    "    kl_div = np.sum(rel_entr(vec_1_prob, vec_2_prob))\n",
    "    print(\"Kullback-Leibler Divergence:\", kl_div)\n",
    "\n",
    "    # Create an array of vectors (add more vectors if needed)\n",
    "    vectors = np.array(bow)\n",
    "    \n",
    "    # Compute pairwise distance similarity matrix using Euclidean distance\n",
    "    pds_matrix = squareform(pdist(vectors, metric='euclidean'))\n",
    "    print(\"Pairwise Distance Similarity Matrix (Euclidean):\\n\", pds_matrix)"
   ]
  },
  {
   "cell_type": "code",
   "execution_count": 68,
   "id": "4926b550-4a0b-46c9-89e3-270b2453aabe",
   "metadata": {},
   "outputs": [
    {
     "name": "stdout",
     "output_type": "stream",
     "text": [
      "Cosine : [0.4199918]\n",
      "Jaccard : 0.5\n",
      "Euclidean : 14.696938456699069\n",
      "Manhattan : 34\n",
      "Bhattacharyya : 0.5880631896474189\n",
      "Kullback-Leibler Divergence: 9.837860870113113\n",
      "Pairwise Distance Similarity Matrix (Euclidean):\n",
      " [[ 0.         14.69693846]\n",
      " [14.69693846  0.        ]]\n"
     ]
    }
   ],
   "source": [
    "get_similarities(test_1)"
   ]
  },
  {
   "cell_type": "code",
   "execution_count": 52,
   "id": "952a41a3-df6a-4da2-a705-be0ec00e108d",
   "metadata": {},
   "outputs": [],
   "source": [
    "def normalize(vec):\n",
    "    return vec/ np.sum(vec)"
   ]
  },
  {
   "cell_type": "code",
   "execution_count": null,
   "id": "b44d4994-94bb-4057-a0e1-12cf9f2f350a",
   "metadata": {},
   "outputs": [],
   "source": []
  }
 ],
 "metadata": {
  "kernelspec": {
   "display_name": "Python 3 (ipykernel)",
   "language": "python",
   "name": "python3"
  },
  "language_info": {
   "codemirror_mode": {
    "name": "ipython",
    "version": 3
   },
   "file_extension": ".py",
   "mimetype": "text/x-python",
   "name": "python",
   "nbconvert_exporter": "python",
   "pygments_lexer": "ipython3",
   "version": "3.12.5"
  }
 },
 "nbformat": 4,
 "nbformat_minor": 5
}
